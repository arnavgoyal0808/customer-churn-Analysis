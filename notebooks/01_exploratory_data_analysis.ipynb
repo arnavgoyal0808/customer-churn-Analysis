{
 "cells": [
  {
   "cell_type": "markdown",
   "metadata": {},
   "source": [
    "# Customer Churn Prediction - Exploratory Data Analysis\n",
    "\n",
    "This notebook provides comprehensive exploratory data analysis for the customer churn prediction project.\n",
    "\n",
    "## Objectives:\n",
    "- Understand data structure and quality\n",
    "- Identify patterns and relationships\n",
    "- Discover insights for feature engineering\n",
    "- Assess data readiness for modeling"
   ]
  },
  {
   "cell_type": "code",
   "execution_count": null,
   "metadata": {},
   "outputs": [],
   "source": [
    "# Import required libraries\n",
    "import pandas as pd\n",
    "import numpy as np\n",
    "import matplotlib.pyplot as plt\n",
    "import seaborn as sns\n",
    "import plotly.express as px\n",
    "import plotly.graph_objects as go\n",
    "from plotly.subplots import make_subplots\n",
    "import warnings\n",
    "warnings.filterwarnings('ignore')\n",
    "\n",
    "# Set style\n",
    "plt.style.use('seaborn-v0_8')\n",
    "sns.set_palette(\"husl\")\n",
    "\n",
    "# Display settings\n",
    "pd.set_option('display.max_columns', None)\n",
    "pd.set_option('display.width', None)\n",
    "\n",
    "print(\"Libraries imported successfully!\")"
   ]
  },
  {
   "cell_type": "code",
   "execution_count": null,
   "metadata": {},
   "outputs": [],
   "source": [
    "# Load the data\n",
    "import sys\n",
    "import os\n",
    "sys.path.append('../src')\n",
    "\n",
    "from data_preprocessing import DataPreprocessor\n",
    "\n",
    "# Generate sample data for analysis\n",
    "preprocessor = DataPreprocessor()\n",
    "df = preprocessor.generate_sample_data(n_samples=10000)\n",
    "\n",
    "print(f\"Dataset shape: {df.shape}\")\n",
    "print(f\"\\nDataset info:\")\n",
    "df.info()"
   ]
  },
  {
   "cell_type": "markdown",
   "metadata": {},
   "source": [
    "## 1. Data Overview and Quality Assessment"
   ]
  },
  {
   "cell_type": "code",
   "execution_count": null,
   "metadata": {},
   "outputs": [],
   "source": [
    "# Basic statistics\n",
    "print(\"=== BASIC STATISTICS ===\")\n",
    "print(df.describe())\n",
    "\n",
    "print(\"\\n=== MISSING VALUES ===\")\n",
    "missing_values = df.isnull().sum()\n",
    "print(missing_values[missing_values > 0])\n",
    "\n",
    "print(\"\\n=== DATA TYPES ===\")\n",
    "print(df.dtypes)\n",
    "\n",
    "print(\"\\n=== UNIQUE VALUES ===\")\n",
    "for col in df.select_dtypes(include=['object']).columns:\n",
    "    print(f\"{col}: {df[col].nunique()} unique values\")\n",
    "    if df[col].nunique() < 10:\n",
    "        print(f\"  Values: {df[col].unique()}\")\n",
    "    print()"
   ]
  },
  {
   "cell_type": "code",
   "execution_count": null,
   "metadata": {},
   "outputs": [],
   "source": [
    "# Target variable analysis\n",
    "print(\"=== TARGET VARIABLE ANALYSIS ===\")\n",
    "churn_rate = df['churned'].mean()\n",
    "print(f\"Overall churn rate: {churn_rate:.2%}\")\n",
    "print(f\"Churned customers: {df['churned'].sum():,}\")\n",
    "print(f\"Retained customers: {(df['churned'] == 0).sum():,}\")\n",
    "\n",
    "# Visualize target distribution\n",
    "fig, axes = plt.subplots(1, 2, figsize=(12, 5))\n",
    "\n",
    "# Count plot\n",
    "df['churned'].value_counts().plot(kind='bar', ax=axes[0], color=['skyblue', 'lightcoral'])\n",
    "axes[0].set_title('Customer Churn Distribution')\n",
    "axes[0].set_xlabel('Churned (0=No, 1=Yes)')\n",
    "axes[0].set_ylabel('Count')\n",
    "axes[0].tick_params(axis='x', rotation=0)\n",
    "\n",
    "# Pie chart\n",
    "labels = ['Retained', 'Churned']\n",
    "sizes = [df['churned'].value_counts()[0], df['churned'].value_counts()[1]]\n",
    "axes[1].pie(sizes, labels=labels, autopct='%1.1f%%', startangle=90, colors=['skyblue', 'lightcoral'])\n",
    "axes[1].set_title('Customer Churn Percentage')\n",
    "\n",
    "plt.tight_layout()\n",
    "plt.show()"
   ]
  },
  {
   "cell_type": "markdown",
   "metadata": {},
   "source": [
    "## 2. Numerical Variables Analysis"
   ]
  },
  {
   "cell_type": "code",
   "execution_count": null,
   "metadata": {},
   "outputs": [],
   "source": [
    "# Numerical variables distribution\n",
    "numerical_cols = ['age', 'tenure_months', 'monthly_charges', 'total_charges', 'support_calls', 'late_payments']\n",
    "\n",
    "fig, axes = plt.subplots(2, 3, figsize=(18, 12))\n",
    "axes = axes.ravel()\n",
    "\n",
    "for i, col in enumerate(numerical_cols):\n",
    "    # Distribution plot\n",
    "    axes[i].hist(df[col], bins=30, alpha=0.7, color='skyblue', edgecolor='black')\n",
    "    axes[i].set_title(f'Distribution of {col.replace(\"_\", \" \").title()}')\n",
    "    axes[i].set_xlabel(col.replace(\"_\", \" \").title())\n",
    "    axes[i].set_ylabel('Frequency')\n",
    "    \n",
    "    # Add statistics\n",
    "    mean_val = df[col].mean()\n",
    "    median_val = df[col].median()\n",
    "    axes[i].axvline(mean_val, color='red', linestyle='--', alpha=0.7, label=f'Mean: {mean_val:.1f}')\n",
    "    axes[i].axvline(median_val, color='green', linestyle='--', alpha=0.7, label=f'Median: {median_val:.1f}')\n",
    "    axes[i].legend()\n",
    "\n",
    "plt.tight_layout()\n",
    "plt.show()"
   ]
  },
  {
   "cell_type": "code",
   "execution_count": null,
   "metadata": {},
   "outputs": [],
   "source": [
    "# Box plots to identify outliers\n",
    "fig, axes = plt.subplots(2, 3, figsize=(18, 12))\n",
    "axes = axes.ravel()\n",
    "\n",
    "for i, col in enumerate(numerical_cols):\n",
    "    df.boxplot(column=col, by='churned', ax=axes[i])\n",
    "    axes[i].set_title(f'{col.replace(\"_\", \" \").title()} by Churn Status')\n",
    "    axes[i].set_xlabel('Churned (0=No, 1=Yes)')\n",
    "    axes[i].set_ylabel(col.replace(\"_\", \" \").title())\n",
    "\n",
    "plt.suptitle('Numerical Variables by Churn Status', y=1.02)\n",
    "plt.tight_layout()\n",
    "plt.show()"
   ]
  },
  {
   "cell_type": "markdown",
   "metadata": {},
   "source": [
    "## 3. Categorical Variables Analysis"
   ]
  },
  {
   "cell_type": "code",
   "execution_count": null,
   "metadata": {},
   "outputs": [],
   "source": [
    "# Categorical variables analysis\n",
    "categorical_cols = ['gender', 'contract_type', 'payment_method', 'internet_service', 'online_security', 'tech_support']\n",
    "\n",
    "fig, axes = plt.subplots(2, 3, figsize=(18, 12))\n",
    "axes = axes.ravel()\n",
    "\n",
    "for i, col in enumerate(categorical_cols):\n",
    "    # Create crosstab\n",
    "    crosstab = pd.crosstab(df[col], df['churned'], normalize='index')\n",
    "    \n",
    "    # Plot\n",
    "    crosstab.plot(kind='bar', ax=axes[i], color=['skyblue', 'lightcoral'])\n",
    "    axes[i].set_title(f'Churn Rate by {col.replace(\"_\", \" \").title()}')\n",
    "    axes[i].set_xlabel(col.replace(\"_\", \" \").title())\n",
    "    axes[i].set_ylabel('Proportion')\n",
    "    axes[i].legend(['Retained', 'Churned'])\n",
    "    axes[i].tick_params(axis='x', rotation=45)\n",
    "\n",
    "plt.tight_layout()\n",
    "plt.show()"
   ]
  },
  {
   "cell_type": "code",
   "execution_count": null,
   "metadata": {},
   "outputs": [],
   "source": [
    "# Detailed churn analysis by categorical variables\n",
    "print(\"=== CHURN RATE BY CATEGORICAL VARIABLES ===\")\n",
    "\n",
    "for col in categorical_cols:\n",
    "    print(f\"\\n{col.upper()}:\")\n",
    "    churn_by_category = df.groupby(col)['churned'].agg(['count', 'sum', 'mean']).round(3)\n",
    "    churn_by_category.columns = ['Total_Customers', 'Churned_Count', 'Churn_Rate']\n",
    "    churn_by_category['Churn_Rate_Pct'] = (churn_by_category['Churn_Rate'] * 100).round(1)\n",
    "    print(churn_by_category.sort_values('Churn_Rate', ascending=False))"
   ]
  },
  {
   "cell_type": "markdown",
   "metadata": {},
   "source": [
    "## 4. Correlation Analysis"
   ]
  },
  {
   "cell_type": "code",
   "execution_count": null,
   "metadata": {},
   "outputs": [],
   "source": [
    "# Correlation matrix for numerical variables\n",
    "numerical_df = df[numerical_cols + ['churned']]\n",
    "correlation_matrix = numerical_df.corr()\n",
    "\n",
    "# Plot correlation heatmap\n",
    "plt.figure(figsize=(10, 8))\n",
    "mask = np.triu(np.ones_like(correlation_matrix, dtype=bool))\n",
    "sns.heatmap(correlation_matrix, mask=mask, annot=True, cmap='coolwarm', center=0,\n",
    "            square=True, linewidths=0.5, cbar_kws={\"shrink\": .8})\n",
    "plt.title('Correlation Matrix - Numerical Variables')\n",
    "plt.tight_layout()\n",
    "plt.show()\n",
    "\n",
    "# Print correlations with churn\n",
    "print(\"\\n=== CORRELATIONS WITH CHURN ===\")\n",
    "churn_correlations = correlation_matrix['churned'].drop('churned').sort_values(key=abs, ascending=False)\n",
    "print(churn_correlations)"
   ]
  },
  {
   "cell_type": "markdown",
   "metadata": {},
   "source": [
    "## 5. Advanced Analysis"
   ]
  },
  {
   "cell_type": "code",
   "execution_count": null,
   "metadata": {},
   "outputs": [],
   "source": [
    "# Customer segmentation analysis\n",
    "print(\"=== CUSTOMER SEGMENTATION ANALYSIS ===\")\n",
    "\n",
    "# Create tenure segments\n",
    "df['tenure_segment'] = pd.cut(df['tenure_months'], \n",
    "                             bins=[0, 12, 24, 48, float('inf')],\n",
    "                             labels=['New (0-12m)', 'Growing (12-24m)', 'Mature (24-48m)', 'Veteran (48m+)'])\n",
    "\n",
    "# Create charge segments\n",
    "df['charge_segment'] = pd.qcut(df['monthly_charges'], \n",
    "                              q=4, \n",
    "                              labels=['Low', 'Medium', 'High', 'Premium'])\n",
    "\n",
    "# Analyze churn by segments\n",
    "segment_analysis = df.groupby(['tenure_segment', 'charge_segment'])['churned'].agg(['count', 'mean']).round(3)\n",
    "segment_analysis.columns = ['Customer_Count', 'Churn_Rate']\n",
    "print(segment_analysis)\n",
    "\n",
    "# Visualize segment analysis\n",
    "pivot_table = df.pivot_table(values='churned', index='tenure_segment', columns='charge_segment', aggfunc='mean')\n",
    "\n",
    "plt.figure(figsize=(10, 6))\n",
    "sns.heatmap(pivot_table, annot=True, cmap='Reds', fmt='.3f', cbar_kws={'label': 'Churn Rate'})\n",
    "plt.title('Churn Rate by Tenure and Charge Segments')\n",
    "plt.ylabel('Tenure Segment')\n",
    "plt.xlabel('Charge Segment')\n",
    "plt.tight_layout()\n",
    "plt.show()"
   ]
  },
  {
   "cell_type": "code",
   "execution_count": null,
   "metadata": {},
   "outputs": [],
   "source": [
    "# Customer lifetime value analysis\n",
    "print(\"=== CUSTOMER LIFETIME VALUE ANALYSIS ===\")\n",
    "\n",
    "# Calculate basic CLV metrics\n",
    "df['avg_monthly_revenue'] = df['total_charges'] / df['tenure_months']\n",
    "df['clv_estimate'] = df['monthly_charges'] * 24  # 2-year estimate\n",
    "\n",
    "# CLV by churn status\n",
    "clv_analysis = df.groupby('churned').agg({\n",
    "    'monthly_charges': ['mean', 'sum'],\n",
    "    'total_charges': ['mean', 'sum'],\n",
    "    'clv_estimate': ['mean', 'sum'],\n",
    "    'tenure_months': 'mean'\n",
    "}).round(2)\n",
    "\n",
    "print(\"CLV Analysis by Churn Status:\")\n",
    "print(clv_analysis)\n",
    "\n",
    "# Visualize CLV distribution\n",
    "fig, axes = plt.subplots(1, 2, figsize=(15, 6))\n",
    "\n",
    "# CLV by churn status\n",
    "df.boxplot(column='clv_estimate', by='churned', ax=axes[0])\n",
    "axes[0].set_title('CLV Distribution by Churn Status')\n",
    "axes[0].set_xlabel('Churned (0=No, 1=Yes)')\n",
    "axes[0].set_ylabel('Estimated CLV ($)')\n",
    "\n",
    "# Revenue at risk\n",
    "churned_clv = df[df['churned'] == 1]['clv_estimate'].sum()\n",
    "retained_clv = df[df['churned'] == 0]['clv_estimate'].sum()\n",
    "\n",
    "axes[1].bar(['Retained', 'Churned'], [retained_clv, churned_clv], \n",
    "           color=['skyblue', 'lightcoral'])\n",
    "axes[1].set_title('Total CLV by Churn Status')\n",
    "axes[1].set_ylabel('Total CLV ($)')\n",
    "\n",
    "# Add value labels\n",
    "for i, v in enumerate([retained_clv, churned_clv]):\n",
    "    axes[1].text(i, v + churned_clv * 0.01, f'${v:,.0f}', ha='center', va='bottom')\n",
    "\n",
    "plt.tight_layout()\n",
    "plt.show()\n",
    "\n",
    "print(f\"\\nRevenue at risk from churned customers: ${churned_clv:,.2f}\")\n",
    "print(f\"Percentage of total CLV at risk: {(churned_clv / (churned_clv + retained_clv)) * 100:.1f}%\")"
   ]
  },
  {
   "cell_type": "markdown",
   "metadata": {},
   "source": [
    "## 6. Key Insights and Recommendations"
   ]
  },
  {
   "cell_type": "code",
   "execution_count": null,
   "metadata": {},
   "outputs": [],
   "source": [
    "# Generate key insights\n",
    "print(\"=== KEY INSIGHTS FROM EXPLORATORY DATA ANALYSIS ===\")\n",
    "print()\n",
    "\n",
    "# 1. Overall churn insights\n",
    "churn_rate = df['churned'].mean()\n",
    "print(f\"1. CHURN OVERVIEW:\")\n",
    "print(f\"   • Overall churn rate: {churn_rate:.1%}\")\n",
    "print(f\"   • {df['churned'].sum():,} out of {len(df):,} customers have churned\")\n",
    "print()\n",
    "\n",
    "# 2. High-risk segments\n",
    "print(f\"2. HIGH-RISK SEGMENTS:\")\n",
    "high_risk_contract = df.groupby('contract_type')['churned'].mean().idxmax()\n",
    "high_risk_payment = df.groupby('payment_method')['churned'].mean().idxmax()\n",
    "print(f\"   • Highest risk contract type: {high_risk_contract} ({df.groupby('contract_type')['churned'].mean().max():.1%} churn rate)\")\n",
    "print(f\"   • Highest risk payment method: {high_risk_payment} ({df.groupby('payment_method')['churned'].mean().max():.1%} churn rate)\")\n",
    "print()\n",
    "\n",
    "# 3. Financial impact\n",
    "print(f\"3. FINANCIAL IMPACT:\")\n",
    "monthly_loss = df[df['churned'] == 1]['monthly_charges'].sum()\n",
    "clv_loss = df[df['churned'] == 1]['clv_estimate'].sum()\n",
    "print(f\"   • Immediate monthly revenue loss: ${monthly_loss:,.2f}\")\n",
    "print(f\"   • Estimated CLV loss: ${clv_loss:,.2f}\")\n",
    "print(f\"   • Average CLV per churned customer: ${clv_loss / df['churned'].sum():,.2f}\")\n",
    "print()\n",
    "\n",
    "# 4. Correlation insights\n",
    "print(f\"4. KEY CORRELATIONS WITH CHURN:\")\n",
    "top_correlations = correlation_matrix['churned'].drop('churned').abs().sort_values(ascending=False).head(3)\n",
    "for var, corr in top_correlations.items():\n",
    "    direction = \"positive\" if correlation_matrix['churned'][var] > 0 else \"negative\"\n",
    "    print(f\"   • {var}: {direction} correlation ({correlation_matrix['churned'][var]:.3f})\")\n",
    "print()\n",
    "\n",
    "# 5. Recommendations\n",
    "print(f\"5. RECOMMENDATIONS FOR MODELING:\")\n",
    "print(f\"   • Focus on contract type and payment method as key features\")\n",
    "print(f\"   • Consider tenure-based features for customer lifecycle modeling\")\n",
    "print(f\"   • Include support calls and late payments as behavioral indicators\")\n",
    "print(f\"   • Segment customers by CLV for targeted retention strategies\")\n",
    "print(f\"   • Address class imbalance in modeling (churn rate: {churn_rate:.1%})\")\n",
    "print()\n",
    "\n",
    "print(\"=== END OF EXPLORATORY DATA ANALYSIS ===\")"
   ]
  },
  {
   "cell_type": "code",
   "execution_count": null,
   "metadata": {},
   "outputs": [],
   "source": [
    "# Save processed data for modeling\n",
    "df.to_csv('../data/processed/eda_processed_data.csv', index=False)\n",
    "print(\"✅ Processed data saved for modeling pipeline\")"
   ]
  }
 ],
 "metadata": {
  "kernelspec": {
   "display_name": "Python 3",
   "language": "python",
   "name": "python3"
  },
  "language_info": {
   "codemirror_mode": {
    "name": "ipython",
    "version": 3
   },
   "file_extension": ".py",
   "mimetype": "text/x-python",
   "name": "python",
   "nbconvert_exporter": "python",
   "pygments_lexer": "ipython3",
   "version": "3.8.5"
  }
 },
 "nbformat": 4,
 "nbformat_minor": 4
}
